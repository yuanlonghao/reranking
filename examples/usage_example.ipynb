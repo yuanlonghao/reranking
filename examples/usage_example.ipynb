{
 "cells": [
  {
   "cell_type": "code",
   "execution_count": 1,
   "metadata": {},
   "outputs": [],
   "source": [
    "%load_ext autoreload\n",
    "%autoreload 2\n",
    "\n",
    "import sys\n",
    "sys.path.append(\"../\")\n",
    "\n",
    "import numpy as np\n",
    "import pandas as pd\n",
    "# np.__path__"
   ]
  },
  {
   "cell_type": "code",
   "execution_count": 2,
   "metadata": {},
   "outputs": [
    {
     "name": "stdout",
     "output_type": "stream",
     "text": [
      "The re-rank indices are: [0, 3, 1, 7, 2, 8, 4, 5, 6, 9].\n",
      "The NDKL metric of before and after re-ranking are 0.412 and 0.172, respectively.\n"
     ]
    }
   ],
   "source": [
    "import reranking\n",
    "\n",
    "# Re-rank\n",
    "item_attribute = [\"a1\", \"a1\", \"a1\", \"a2\", \"a1\", \"a1\", \"a1\", \"a2\", \"a2\", \"a1\"]\n",
    "desired_distribution = {\"a1\": 0.5, \"a2\": 0.5}\n",
    "rerank_indices = reranking.rerank(\n",
    "    item_attribute,  # attributes of the ranked items\n",
    "    desired_distribution,  # desired item distribution\n",
    "    max_na=None,  # to control the max number of attributes applied\n",
    "    k_max=None,  # length of output, if None, k_max is the length of `item_attribute`\n",
    "    algorithm=\"det_greedy\",  # \"det_greedy\", \"det_cons\", \"det_relaxed\", \"det_const_sort\"\n",
    "    verbose=False,  # if True, the output is with detailed information\n",
    ")\n",
    "print(f\"The re-rank indices are: {rerank_indices}.\")\n",
    "item_attribute_reranked = [item_attribute[i] for i in rerank_indices]\n",
    "before = reranking.ndkl(item_attribute, desired_distribution)\n",
    "after = reranking.ndkl(item_attribute_reranked, desired_distribution)\n",
    "print(f\"The NDKL metric of before and after re-ranking are {before:.3f} and {after:.3f}, respectively.\")"
   ]
  },
  {
   "cell_type": "markdown",
   "metadata": {},
   "source": [
    "# Synthetic data"
   ]
  },
  {
   "cell_type": "code",
   "execution_count": 3,
   "metadata": {},
   "outputs": [
    {
     "data": {
      "text/html": [
       "<div>\n",
       "<style scoped>\n",
       "    .dataframe tbody tr th:only-of-type {\n",
       "        vertical-align: middle;\n",
       "    }\n",
       "\n",
       "    .dataframe tbody tr th {\n",
       "        vertical-align: top;\n",
       "    }\n",
       "\n",
       "    .dataframe thead th {\n",
       "        text-align: right;\n",
       "    }\n",
       "</style>\n",
       "<table border=\"1\" class=\"dataframe\">\n",
       "  <thead>\n",
       "    <tr style=\"text-align: right;\">\n",
       "      <th></th>\n",
       "      <th>candidate_id</th>\n",
       "      <th>model_rank</th>\n",
       "      <th>gender</th>\n",
       "      <th>age</th>\n",
       "      <th>location</th>\n",
       "      <th>age_location</th>\n",
       "    </tr>\n",
       "  </thead>\n",
       "  <tbody>\n",
       "    <tr>\n",
       "      <th>0</th>\n",
       "      <td>83</td>\n",
       "      <td>0</td>\n",
       "      <td>female</td>\n",
       "      <td>others</td>\n",
       "      <td>Kanagawa</td>\n",
       "      <td>others_Kanagawa</td>\n",
       "    </tr>\n",
       "    <tr>\n",
       "      <th>1</th>\n",
       "      <td>53</td>\n",
       "      <td>1</td>\n",
       "      <td>male</td>\n",
       "      <td>20s</td>\n",
       "      <td>Tokyo</td>\n",
       "      <td>20s_Tokyo</td>\n",
       "    </tr>\n",
       "    <tr>\n",
       "      <th>2</th>\n",
       "      <td>70</td>\n",
       "      <td>2</td>\n",
       "      <td>male</td>\n",
       "      <td>30s</td>\n",
       "      <td>others</td>\n",
       "      <td>30s_others</td>\n",
       "    </tr>\n",
       "    <tr>\n",
       "      <th>3</th>\n",
       "      <td>45</td>\n",
       "      <td>3</td>\n",
       "      <td>male</td>\n",
       "      <td>40s</td>\n",
       "      <td>others</td>\n",
       "      <td>40s_others</td>\n",
       "    </tr>\n",
       "    <tr>\n",
       "      <th>4</th>\n",
       "      <td>44</td>\n",
       "      <td>4</td>\n",
       "      <td>male</td>\n",
       "      <td>others</td>\n",
       "      <td>Tokyo</td>\n",
       "      <td>others_Tokyo</td>\n",
       "    </tr>\n",
       "    <tr>\n",
       "      <th>5</th>\n",
       "      <td>39</td>\n",
       "      <td>5</td>\n",
       "      <td>male</td>\n",
       "      <td>others</td>\n",
       "      <td>Tokyo</td>\n",
       "      <td>others_Tokyo</td>\n",
       "    </tr>\n",
       "    <tr>\n",
       "      <th>6</th>\n",
       "      <td>22</td>\n",
       "      <td>6</td>\n",
       "      <td>female</td>\n",
       "      <td>30s</td>\n",
       "      <td>Kanagawa</td>\n",
       "      <td>30s_Kanagawa</td>\n",
       "    </tr>\n",
       "    <tr>\n",
       "      <th>7</th>\n",
       "      <td>80</td>\n",
       "      <td>7</td>\n",
       "      <td>male</td>\n",
       "      <td>others</td>\n",
       "      <td>Tokyo</td>\n",
       "      <td>others_Tokyo</td>\n",
       "    </tr>\n",
       "    <tr>\n",
       "      <th>8</th>\n",
       "      <td>10</td>\n",
       "      <td>8</td>\n",
       "      <td>male</td>\n",
       "      <td>20s</td>\n",
       "      <td>others</td>\n",
       "      <td>20s_others</td>\n",
       "    </tr>\n",
       "    <tr>\n",
       "      <th>9</th>\n",
       "      <td>0</td>\n",
       "      <td>9</td>\n",
       "      <td>male</td>\n",
       "      <td>others</td>\n",
       "      <td>others</td>\n",
       "      <td>others_others</td>\n",
       "    </tr>\n",
       "  </tbody>\n",
       "</table>\n",
       "</div>"
      ],
      "text/plain": [
       "   candidate_id  model_rank  gender     age  location     age_location\n",
       "0            83           0  female  others  Kanagawa  others_Kanagawa\n",
       "1            53           1    male     20s     Tokyo        20s_Tokyo\n",
       "2            70           2    male     30s    others       30s_others\n",
       "3            45           3    male     40s    others       40s_others\n",
       "4            44           4    male  others     Tokyo     others_Tokyo\n",
       "5            39           5    male  others     Tokyo     others_Tokyo\n",
       "6            22           6  female     30s  Kanagawa     30s_Kanagawa\n",
       "7            80           7    male  others     Tokyo     others_Tokyo\n",
       "8            10           8    male     20s    others       20s_others\n",
       "9             0           9    male  others    others    others_others"
      ]
     },
     "execution_count": 3,
     "metadata": {},
     "output_type": "execute_result"
    }
   ],
   "source": [
    "rankings = [i for i in range(100)]\n",
    "np.random.seed(seed=42)\n",
    "candidate_ids = np.random.choice(rankings, 100, replace=False)\n",
    "genders = np.random.choice([\"male\"]*70 +[\"female\"]*30, 100, replace=False)\n",
    "locations = np.random.choice([\"Tokyo\"]*40 +[\"Kanagawa\"]*30 + [\"others\"]*30, 100, replace=False)\n",
    "ages = np.random.choice([\"20s\"]*20 +[\"30s\"]*40 + [\"40s\"]*20 + [\"others\"]*20, 100, replace=False)\n",
    "df_pseudo = pd.DataFrame({'candidate_id':candidate_ids, 'model_rank': rankings, \n",
    "                          \"gender\":genders, \"age\":ages, \"location\": locations})\n",
    "df_pseudo[\"age_location\"] = df_pseudo.age + \"_\" + df_pseudo.location\n",
    "df_pseudo.head(10)"
   ]
  },
  {
   "cell_type": "markdown",
   "metadata": {},
   "source": [
    "# Experiments\n",
    "Edge conditions (desired attribute item is insufficient) are tested by unittest."
   ]
  },
  {
   "cell_type": "code",
   "execution_count": 4,
   "metadata": {},
   "outputs": [],
   "source": [
    "from reranking.algs import Reranking\n",
    "\n",
    "dedired_distri1 = {\"male\": 0.7, \"female\": 0.3}\n",
    "dedired_distri2 = {\"20s\": 0.3, \"30s\": 0.3, \"40s\": 0.3, \"others\": 0.1}\n",
    "dedired_distri3 = {\"Tokyo\": 0.3, \"Kanagawa\": 0.3, \"others\": 0.4}\n",
    "dedired_distri4 = {\"30s_Kanagawa\": 0.2, \"20s_Tokyo\": 0.1, \"others_Tokyo\": 0.0, \"30s_others\": 0.0, \"30s_Tokyo\": 0.3, \n",
    "                   \"40s_Tokyo\": 0.1, \"20s_others\": 0.0, \"others_others\": 0.0, \"40s_others\": 0.0, \"40s_Kanagawa\": 0.1, \n",
    "                   \"others_Kanagawa\": 0.0, \"20s_Kanagawa\": 0.2} # zero valued attributes can be removed\n",
    "\n",
    "r1 = Reranking(genders, dedired_distri1)\n",
    "r2 = Reranking(ages, dedired_distri2)\n",
    "r3 = Reranking(locations, dedired_distri3)\n",
    "r4 = Reranking(df_pseudo.age_location.tolist(), dedired_distri4)"
   ]
  },
  {
   "cell_type": "code",
   "execution_count": 5,
   "metadata": {},
   "outputs": [
    {
     "name": "stdout",
     "output_type": "stream",
     "text": [
      "Algorithm: `det_greedy`\n",
      "Before re-ranking: {'male': 0.8, 'female': 0.2}\n",
      "Desired distribution: {'male': 0.7, 'female': 0.3}\n",
      "After re-ranking: {'male': 0.7, 'female': 0.3}\n",
      "\n",
      "Algorithm: `det_cons`\n",
      "Before re-ranking: {'others': 0.5, '20s': 0.2, '30s': 0.2, '40s': 0.1}\n",
      "Desired distribution: {'20s': 0.3, '30s': 0.3, '40s': 0.3, 'others': 0.1}\n",
      "After re-ranking: {'20s': 0.3, '30s': 0.3, '40s': 0.3, 'others': 0.1}\n",
      "\n",
      "Algorithm: `det_relaxed`\n",
      "Before re-ranking: {'Tokyo': 0.4, 'others': 0.4, 'Kanagawa': 0.2}\n",
      "Desired distribution: {'Tokyo': 0.3, 'Kanagawa': 0.3, 'others': 0.4}\n",
      "After re-ranking: {'others': 0.4, 'Kanagawa': 0.3, 'Tokyo': 0.3}\n",
      "\n",
      "Algorithm: `det_const_sort`\n",
      "Before re-ranking: {'others_Tokyo': 0.3, 'others_Kanagawa': 0.1, '20s_Tokyo': 0.1, '30s_others': 0.1, '40s_others': 0.1, '30s_Kanagawa': 0.1, '20s_others': 0.1, 'others_others': 0.1}\n",
      "Desired distribution: {'30s_Kanagawa': 0.2, '20s_Tokyo': 0.1, 'others_Tokyo': 0.0, '30s_others': 0.0, '30s_Tokyo': 0.3, '40s_Tokyo': 0.1, '20s_others': 0.0, 'others_others': 0.0, '40s_others': 0.0, '40s_Kanagawa': 0.1, 'others_Kanagawa': 0.0, '20s_Kanagawa': 0.2}\n",
      "After re-ranking: {'30s_Tokyo': 0.3, '30s_Kanagawa': 0.2, '20s_Kanagawa': 0.2, '40s_Tokyo': 0.1, '40s_Kanagawa': 0.1, '20s_Tokyo': 0.1}\n",
      "\n"
     ]
    }
   ],
   "source": [
    "for dd, ranker, algorithm in zip(\n",
    "    [dedired_distri1, dedired_distri2, dedired_distri3, dedired_distri4],\n",
    "    [r1, r2, r3, r4],\n",
    "    [\"det_greedy\", \"det_cons\", \"det_relaxed\", \"det_const_sort\"],\n",
    "):\n",
    "    df = ranker(algorithm=algorithm, verbose=True, k_max=10)\n",
    "    print(f\"Algorithm: `{algorithm}`\")\n",
    "    print(f\"Before re-ranking: {ranker.df_formatted.sort_values('model_rank').iloc[:10].attribute.value_counts(normalize=True).to_dict()}\")\n",
    "    print(f\"Desired distribution: {dd}\")\n",
    "    print(f\"After re-ranking: {df.attribute.value_counts(normalize=True).to_dict()}\")\n",
    "    print()"
   ]
  },
  {
   "cell_type": "markdown",
   "metadata": {},
   "source": [
    "# Test if greedy algorithms will be infeasible when attribute category is over 3\n",
    "(Seems to perform normally in the high attribute category situation.)"
   ]
  },
  {
   "cell_type": "code",
   "execution_count": 6,
   "metadata": {},
   "outputs": [
    {
     "name": "stdout",
     "output_type": "stream",
     "text": [
      "Test greedy algorithms with 12 attribute category situation.\n",
      "Before re-ranking: {'others_Tokyo': 0.3, 'others_Kanagawa': 0.1, '20s_Tokyo': 0.1, '30s_others': 0.1, '40s_others': 0.1, '30s_Kanagawa': 0.1, '20s_others': 0.1, 'others_others': 0.1}\n",
      "Desired distribution: {'30s_Kanagawa': 0.2, '20s_Tokyo': 0.1, 'others_Tokyo': 0.0, '30s_others': 0.0, '30s_Tokyo': 0.3, '40s_Tokyo': 0.1, '20s_others': 0.0, 'others_others': 0.0, '40s_others': 0.0, '40s_Kanagawa': 0.1, 'others_Kanagawa': 0.0, '20s_Kanagawa': 0.2}\n",
      "\n",
      "Algorithm: `det_greedy`: \n",
      "After re-ranking: {'30s_Tokyo': 0.3, '30s_Kanagawa': 0.2, '20s_Kanagawa': 0.2, '20s_Tokyo': 0.1, '40s_Tokyo': 0.1, '40s_Kanagawa': 0.1}\n",
      "\n",
      "Algorithm: `det_cons`: \n",
      "After re-ranking: {'30s_Tokyo': 0.3, '30s_Kanagawa': 0.2, '20s_Kanagawa': 0.2, '20s_Tokyo': 0.1, '40s_Tokyo': 0.1, '40s_Kanagawa': 0.1}\n",
      "\n",
      "Algorithm: `det_relaxed`: \n",
      "After re-ranking: {'30s_Tokyo': 0.3, '30s_Kanagawa': 0.2, '20s_Kanagawa': 0.2, '20s_Tokyo': 0.1, '40s_Tokyo': 0.1, '40s_Kanagawa': 0.1}\n"
     ]
    }
   ],
   "source": [
    "print(f\"Test greedy algorithms with {len(dedired_distri4)} attribute category situation.\")\n",
    "print(f\"Before re-ranking: {r4.df_formatted.sort_values('model_rank').iloc[:10].attribute.value_counts(normalize=True).to_dict()}\")\n",
    "print(f\"Desired distribution: {dedired_distri4}\")\n",
    "\n",
    "\n",
    "for algorithm in [\"det_greedy\", \"det_cons\", \"det_relaxed\"]:\n",
    "    df = r4(algorithm= algorithm, verbose=True, k_max=10)\n",
    "    print()\n",
    "    print(f\"Algorithm: `{algorithm}`: \")\n",
    "    print(f\"After re-ranking: {df.attribute.value_counts(normalize=True).to_dict()}\") \n"
   ]
  },
  {
   "cell_type": "code",
   "execution_count": null,
   "metadata": {},
   "outputs": [],
   "source": []
  }
 ],
 "metadata": {
  "interpreter": {
   "hash": "dc8bbfeedf69173c055503f5682c6f96f8506eb1c4b3aa25d06d3cec24f2b1b1"
  },
  "kernelspec": {
   "display_name": "Python 3.9.0 64-bit ('tensor-research': pyenv)",
   "name": "python3"
  },
  "language_info": {
   "codemirror_mode": {
    "name": "ipython",
    "version": 3
   },
   "file_extension": ".py",
   "mimetype": "text/x-python",
   "name": "python",
   "nbconvert_exporter": "python",
   "pygments_lexer": "ipython3",
   "version": "3.9.0"
  },
  "orig_nbformat": 4
 },
 "nbformat": 4,
 "nbformat_minor": 2
}
