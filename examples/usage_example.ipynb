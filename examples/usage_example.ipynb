{
 "cells": [
  {
   "cell_type": "code",
   "execution_count": 1,
   "source": [
    "%load_ext autoreload\n",
    "%autoreload 2\n",
    "\n",
    "import sys\n",
    "sys.path.append(\"../\")\n",
    "\n",
    "import numpy as np\n",
    "import pandas as pd\n",
    "from reranking.algs import Reranking\n",
    "np.__path__"
   ],
   "outputs": [
    {
     "output_type": "execute_result",
     "data": {
      "text/plain": [
       "['/Users/longhao.yuan/.pyenv/versions/3.9.0/envs/tensor-research/lib/python3.9/site-packages/numpy']"
      ]
     },
     "metadata": {},
     "execution_count": 1
    }
   ],
   "metadata": {}
  },
  {
   "cell_type": "markdown",
   "source": [
    "# Synthetic data"
   ],
   "metadata": {}
  },
  {
   "cell_type": "code",
   "execution_count": 2,
   "source": [
    "rankings = [i for i in range(100)]\n",
    "np.random.seed(seed=43)\n",
    "candidate_ids = np.random.choice(rankings, 100, replace=False)\n",
    "genders = np.random.choice([\"male\"]*70 +[\"female\"]*30, 100, replace=False)\n",
    "locations = np.random.choice([\"Tokyo\"]*40 +[\"Kanagawa\"]*30 + [\"others\"]*30, 100, replace=False)\n",
    "ages = np.random.choice([\"20s\"]*20 +[\"30s\"]*40 + [\"40s\"]*20 + [\"others\"]*20, 100, replace=False)\n",
    "df_pseudo = pd.DataFrame({'candidate_id':candidate_ids, 'model_rank': rankings, \"gender\":genders, \"age\":ages, \"location\": locations})\n",
    "df_pseudo[\"age_location\"] = df_pseudo.age + \"_\" + df_pseudo.location\n",
    "df_pseudo.head(10)"
   ],
   "outputs": [
    {
     "output_type": "execute_result",
     "data": {
      "text/plain": [
       "   candidate_id  model_rank  gender     age  location     age_location\n",
       "0            20           0    male  others     Tokyo     others_Tokyo\n",
       "1             2           1    male     30s  Kanagawa     30s_Kanagawa\n",
       "2            15           2  female     30s    others       30s_others\n",
       "3            22           3  female     40s     Tokyo        40s_Tokyo\n",
       "4            57           4  female  others     Tokyo     others_Tokyo\n",
       "5            91           5    male  others  Kanagawa  others_Kanagawa\n",
       "6            69           6    male     30s     Tokyo        30s_Tokyo\n",
       "7            55           7    male     20s    others       20s_others\n",
       "8            11           8    male     20s    others       20s_others\n",
       "9            79           9    male     30s  Kanagawa     30s_Kanagawa"
      ],
      "text/html": [
       "<div>\n",
       "<style scoped>\n",
       "    .dataframe tbody tr th:only-of-type {\n",
       "        vertical-align: middle;\n",
       "    }\n",
       "\n",
       "    .dataframe tbody tr th {\n",
       "        vertical-align: top;\n",
       "    }\n",
       "\n",
       "    .dataframe thead th {\n",
       "        text-align: right;\n",
       "    }\n",
       "</style>\n",
       "<table border=\"1\" class=\"dataframe\">\n",
       "  <thead>\n",
       "    <tr style=\"text-align: right;\">\n",
       "      <th></th>\n",
       "      <th>candidate_id</th>\n",
       "      <th>model_rank</th>\n",
       "      <th>gender</th>\n",
       "      <th>age</th>\n",
       "      <th>location</th>\n",
       "      <th>age_location</th>\n",
       "    </tr>\n",
       "  </thead>\n",
       "  <tbody>\n",
       "    <tr>\n",
       "      <th>0</th>\n",
       "      <td>20</td>\n",
       "      <td>0</td>\n",
       "      <td>male</td>\n",
       "      <td>others</td>\n",
       "      <td>Tokyo</td>\n",
       "      <td>others_Tokyo</td>\n",
       "    </tr>\n",
       "    <tr>\n",
       "      <th>1</th>\n",
       "      <td>2</td>\n",
       "      <td>1</td>\n",
       "      <td>male</td>\n",
       "      <td>30s</td>\n",
       "      <td>Kanagawa</td>\n",
       "      <td>30s_Kanagawa</td>\n",
       "    </tr>\n",
       "    <tr>\n",
       "      <th>2</th>\n",
       "      <td>15</td>\n",
       "      <td>2</td>\n",
       "      <td>female</td>\n",
       "      <td>30s</td>\n",
       "      <td>others</td>\n",
       "      <td>30s_others</td>\n",
       "    </tr>\n",
       "    <tr>\n",
       "      <th>3</th>\n",
       "      <td>22</td>\n",
       "      <td>3</td>\n",
       "      <td>female</td>\n",
       "      <td>40s</td>\n",
       "      <td>Tokyo</td>\n",
       "      <td>40s_Tokyo</td>\n",
       "    </tr>\n",
       "    <tr>\n",
       "      <th>4</th>\n",
       "      <td>57</td>\n",
       "      <td>4</td>\n",
       "      <td>female</td>\n",
       "      <td>others</td>\n",
       "      <td>Tokyo</td>\n",
       "      <td>others_Tokyo</td>\n",
       "    </tr>\n",
       "    <tr>\n",
       "      <th>5</th>\n",
       "      <td>91</td>\n",
       "      <td>5</td>\n",
       "      <td>male</td>\n",
       "      <td>others</td>\n",
       "      <td>Kanagawa</td>\n",
       "      <td>others_Kanagawa</td>\n",
       "    </tr>\n",
       "    <tr>\n",
       "      <th>6</th>\n",
       "      <td>69</td>\n",
       "      <td>6</td>\n",
       "      <td>male</td>\n",
       "      <td>30s</td>\n",
       "      <td>Tokyo</td>\n",
       "      <td>30s_Tokyo</td>\n",
       "    </tr>\n",
       "    <tr>\n",
       "      <th>7</th>\n",
       "      <td>55</td>\n",
       "      <td>7</td>\n",
       "      <td>male</td>\n",
       "      <td>20s</td>\n",
       "      <td>others</td>\n",
       "      <td>20s_others</td>\n",
       "    </tr>\n",
       "    <tr>\n",
       "      <th>8</th>\n",
       "      <td>11</td>\n",
       "      <td>8</td>\n",
       "      <td>male</td>\n",
       "      <td>20s</td>\n",
       "      <td>others</td>\n",
       "      <td>20s_others</td>\n",
       "    </tr>\n",
       "    <tr>\n",
       "      <th>9</th>\n",
       "      <td>79</td>\n",
       "      <td>9</td>\n",
       "      <td>male</td>\n",
       "      <td>30s</td>\n",
       "      <td>Kanagawa</td>\n",
       "      <td>30s_Kanagawa</td>\n",
       "    </tr>\n",
       "  </tbody>\n",
       "</table>\n",
       "</div>"
      ]
     },
     "metadata": {},
     "execution_count": 2
    }
   ],
   "metadata": {}
  },
  {
   "cell_type": "markdown",
   "source": [
    "# Experiments"
   ],
   "metadata": {}
  },
  {
   "cell_type": "code",
   "execution_count": 3,
   "source": [
    "print(df_pseudo.age_location.value_counts(normalize=True).to_dict())"
   ],
   "outputs": [
    {
     "output_type": "stream",
     "name": "stdout",
     "text": [
      "{'30s_Kanagawa': 0.2, '20s_Tokyo': 0.11, 'others_Tokyo': 0.1, '30s_others': 0.1, '30s_Tokyo': 0.1, '40s_Tokyo': 0.09, '20s_others': 0.07, 'others_others': 0.07, '40s_others': 0.06, '40s_Kanagawa': 0.05, 'others_Kanagawa': 0.03, '20s_Kanagawa': 0.02}\n"
     ]
    }
   ],
   "metadata": {}
  },
  {
   "cell_type": "code",
   "execution_count": 4,
   "source": [
    "dedired_distri1 = {\"male\": 0.7, \"female\": 0.3}\n",
    "dedired_distri2 = {\"20s\": 0.3, \"30s\": 0.3, \"40s\": 0.3, \"others\": 0.1}\n",
    "dedired_distri3 = {\"Tokyo\": 0.3, \"Kanagawa\": 0.3, \"others\": 0.4}\n",
    "dedired_distri4 = {\n",
    "        \"30s_Kanagawa\": 0.2,\n",
    "        \"20s_Tokyo\": 0.1,\n",
    "        \"others_Tokyo\": 0.0,\n",
    "        \"30s_others\": 0.0,\n",
    "        \"30s_Tokyo\": 0.3,\n",
    "        \"40s_Tokyo\": 0.1,\n",
    "        \"20s_others\": 0.0,\n",
    "        \"others_others\": 0.0,\n",
    "        \"40s_others\": 0.0,\n",
    "        \"40s_Kanagawa\": 0.1,\n",
    "        \"others_Kanagawa\": 0.0,\n",
    "        \"20s_Kanagawa\": 0.2,\n",
    "    }\n",
    "\n",
    "r1 = Reranking(candidate_ids, genders, dedired_distri1)\n",
    "r2 = Reranking(candidate_ids, ages, dedired_distri2)\n",
    "r3 = Reranking(candidate_ids, locations, dedired_distri3)\n",
    "r4 = Reranking(candidate_ids, df_pseudo.age_location.tolist(), dedired_distri4)\n",
    "\n",
    "df1 = r1.re_rank(algorithm= \"det_greedy\", verbose=True, k_max=10)\n",
    "df2 = r2.re_rank(algorithm= \"det_cons\", verbose=True, k_max=10)\n",
    "df3 = r3.re_rank(algorithm= \"det_relaxed\", verbose=True, k_max=10)\n",
    "df4 = r4.re_rank(algorithm= \"det_const_sort\", verbose=True, k_max=10)"
   ],
   "outputs": [],
   "metadata": {}
  },
  {
   "cell_type": "code",
   "execution_count": 5,
   "source": [
    "for dd, ranker, df, name in zip(\n",
    "    [dedired_distri1, dedired_distri2, dedired_distri3, dedired_distri4],\n",
    "    [r1, r2, r3, r4],\n",
    "    [df1, df2, df3, df4],\n",
    "    [\"det_greedy\", \"det_cons\", \"det_relaxed\", \"det_const_sort\"],\n",
    "):\n",
    "    print(f\"Algorithm: {name} \")\n",
    "    print(f\"Desired distribution: {dd}\")\n",
    "    print(\n",
    "        f\"Before re-ranking: {ranker.df_formated.loc[:10].attribute.value_counts(normalize=True).to_dict()}\"\n",
    "    )\n",
    "    print(f\"After re-ranking: {df.attribute.value_counts(normalize=True).to_dict()}\")\n",
    "    print()"
   ],
   "outputs": [
    {
     "output_type": "stream",
     "name": "stdout",
     "text": [
      "Algorithm: det_greedy \n",
      "Desired distribution: {'male': 0.7, 'female': 0.3}\n",
      "Before re-ranking: {'male': 1.0}\n",
      "After re-ranking: {'male': 0.7, 'female': 0.3}\n",
      "\n",
      "Algorithm: det_cons \n",
      "Desired distribution: {'20s': 0.3, '30s': 0.3, '40s': 0.3, 'others': 0.1}\n",
      "Before re-ranking: {'others': 1.0}\n",
      "After re-ranking: {'30s': 0.3, '40s': 0.3, '20s': 0.3, 'others': 0.1}\n",
      "\n",
      "Algorithm: det_relaxed \n",
      "Desired distribution: {'Tokyo': 0.3, 'Kanagawa': 0.3, 'others': 0.4}\n",
      "Before re-ranking: {'Tokyo': 1.0}\n",
      "After re-ranking: {'others': 0.4, 'Tokyo': 0.3, 'Kanagawa': 0.3}\n",
      "\n",
      "Algorithm: det_const_sort \n",
      "Desired distribution: {'30s_Kanagawa': 0.2, '20s_Tokyo': 0.1, 'others_Tokyo': 0.0, '30s_others': 0.0, '30s_Tokyo': 0.3, '40s_Tokyo': 0.1, '20s_others': 0.0, 'others_others': 0.0, '40s_others': 0.0, '40s_Kanagawa': 0.1, 'others_Kanagawa': 0.0, '20s_Kanagawa': 0.2}\n",
      "Before re-ranking: {'others_Tokyo': 0.9090909090909091, '30s_Kanagawa': 0.09090909090909091}\n",
      "After re-ranking: {'30s_Tokyo': 0.3, '30s_Kanagawa': 0.2, '20s_Kanagawa': 0.2, '40s_Kanagawa': 0.1, '40s_Tokyo': 0.1, '20s_Tokyo': 0.1}\n",
      "\n"
     ]
    }
   ],
   "metadata": {}
  },
  {
   "cell_type": "markdown",
   "source": [
    "# Test if greedy algorithms will be infeasible when attribute number is over 3\n",
    "(Seems to perform normally in the high attribute number condition.)"
   ],
   "metadata": {}
  },
  {
   "cell_type": "code",
   "execution_count": 6,
   "source": [
    "print(f\"Test greedy algorithms with {len(dedired_distri4)} attributes.\")\n",
    "print(f\"Desired distribution: {dedired_distri4}\")\n",
    "print(f\"Before re-ranking: {r4.df_formated.loc[:10].attribute.value_counts(normalize=True).to_dict()}\")\n",
    "\n",
    "for name in [\"det_greedy\", \"det_cons\", \"det_relaxed\"]:\n",
    "    df = r4.re_rank(algorithm= name, verbose=True, k_max=10)\n",
    "    print()\n",
    "    print(f\"Algorithm: {name}: \")\n",
    "    print(f\"After re-ranking: {df.attribute.value_counts(normalize=True).to_dict()}\") \n"
   ],
   "outputs": [
    {
     "output_type": "stream",
     "name": "stdout",
     "text": [
      "Test greedy algorithms with 12 attributes.\n",
      "Desired distribution: {'30s_Kanagawa': 0.2, '20s_Tokyo': 0.1, 'others_Tokyo': 0.0, '30s_others': 0.0, '30s_Tokyo': 0.3, '40s_Tokyo': 0.1, '20s_others': 0.0, 'others_others': 0.0, '40s_others': 0.0, '40s_Kanagawa': 0.1, 'others_Kanagawa': 0.0, '20s_Kanagawa': 0.2}\n",
      "Before re-ranking: {'others_Tokyo': 0.9090909090909091, '30s_Kanagawa': 0.09090909090909091}\n",
      "\n",
      "Algorithm: det_greedy: \n",
      "After re-ranking: {'30s_Tokyo': 0.3, '30s_Kanagawa': 0.2, '20s_Kanagawa': 0.2, '40s_Tokyo': 0.1, '20s_Tokyo': 0.1, '40s_Kanagawa': 0.1}\n",
      "\n",
      "Algorithm: det_cons: \n",
      "After re-ranking: {'30s_Tokyo': 0.3, '30s_Kanagawa': 0.2, '20s_Kanagawa': 0.2, '40s_Tokyo': 0.1, '20s_Tokyo': 0.1, '40s_Kanagawa': 0.1}\n",
      "\n",
      "Algorithm: det_relaxed: \n",
      "After re-ranking: {'30s_Tokyo': 0.3, '30s_Kanagawa': 0.2, '20s_Kanagawa': 0.2, '40s_Tokyo': 0.1, '20s_Tokyo': 0.1, '40s_Kanagawa': 0.1}\n"
     ]
    }
   ],
   "metadata": {}
  },
  {
   "cell_type": "code",
   "execution_count": null,
   "source": [],
   "outputs": [],
   "metadata": {}
  }
 ],
 "metadata": {
  "orig_nbformat": 4,
  "language_info": {
   "name": "python",
   "version": "3.9.0",
   "mimetype": "text/x-python",
   "codemirror_mode": {
    "name": "ipython",
    "version": 3
   },
   "pygments_lexer": "ipython3",
   "nbconvert_exporter": "python",
   "file_extension": ".py"
  },
  "kernelspec": {
   "name": "python3",
   "display_name": "Python 3.9.0 64-bit ('tensor-research': pyenv)"
  },
  "interpreter": {
   "hash": "dc8bbfeedf69173c055503f5682c6f96f8506eb1c4b3aa25d06d3cec24f2b1b1"
  }
 },
 "nbformat": 4,
 "nbformat_minor": 2
}