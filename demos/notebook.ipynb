{
 "cells": [
  {
   "cell_type": "code",
   "execution_count": 1,
   "source": [
    "%load_ext autoreload\n",
    "%autoreload 2\n",
    "\n",
    "import sys\n",
    "sys.path.append(\"../\")\n",
    "\n",
    "import numpy as np\n",
    "import pandas as pd\n",
    "import math\n",
    "from typing import List, Union, Dict\n",
    "from reranking.algs import Reranking\n",
    "np.__path__"
   ],
   "outputs": [
    {
     "output_type": "execute_result",
     "data": {
      "text/plain": [
       "['/Users/longhao.yuan/.pyenv/versions/3.9.0/envs/tensor-research/lib/python3.9/site-packages/numpy']"
      ]
     },
     "metadata": {},
     "execution_count": 1
    }
   ],
   "metadata": {}
  },
  {
   "cell_type": "markdown",
   "source": [
    "# Synthetic data"
   ],
   "metadata": {}
  },
  {
   "cell_type": "code",
   "execution_count": 2,
   "source": [
    "rankings = [i for i in range(100)]\n",
    "candidate_ids = np.random.choice(rankings, 100, replace=False)\n",
    "genders = np.random.choice([\"male\"]*70 +[\"female\"]*30, 100, replace=False)\n",
    "locations = np.random.choice([\"Tokyo\"]*40 +[\"Kanagawa\"]*30 + [\"others\"]*30, 100, replace=False)\n",
    "ages = np.random.choice([\"20s\"]*20 +[\"30s\"]*40 + [\"40s\"]*20 + [\"others\"]*20, 100, replace=False)\n",
    "df_pseudo = pd.DataFrame({'candidate_id':candidate_ids, 'model_rank': rankings, \"gender\":genders, \"age\":ages, \"location\": locations})\n",
    "# df_pseudo.head(10)"
   ],
   "outputs": [],
   "metadata": {}
  },
  {
   "cell_type": "markdown",
   "source": [
    "# Experiments"
   ],
   "metadata": {}
  },
  {
   "cell_type": "code",
   "execution_count": 3,
   "source": [
    "# r1 = Reranking(candidate_ids, genders, {'male': 0.8, 'female': 0.20})\n",
    "# res = r1.re_rank_greedy(method= \"det_greedy\", verbose=True, k_max=100)\n",
    "# res_dict = {k:v for k, v in zip(res.model_rank, res.attribute)}\n",
    "# print(res_dict)"
   ],
   "outputs": [],
   "metadata": {}
  },
  {
   "cell_type": "code",
   "execution_count": 4,
   "source": [
    "# r1 = Reranking(candidate_ids, genders, {'male': 0.7, 'female': 0.3})\n",
    "# r2 = Reranking(candidate_ids, ages, {'20s': 0.3, '30s': 0.3, '40s': 0.3, 'others':0.1})\n",
    "# r3 = Reranking(candidate_ids, locations, {'Tokyo': 0.3, 'Kanagawa': 0.3, 'others':0.4})\n",
    "# k_max = 10\n",
    "\n",
    "# print(f\"original ranking: {[i for i in range(k_max)]}\")\n",
    "# for r in [r1, r2, r3]:\n",
    "#     df1 = r.re_rank_greedy(method= \"det_greedy\", verbose=True, k_max=100)\n",
    "#     df2 = r.re_rank_greedy(method= \"det_cons\", verbose=True, k_max=100)\n",
    "#     df3 = r.re_rank_greedy(method= \"det_relax\", verbose=True, k_max=100)\n",
    "#     df4 = r.re_rank_const_sorting( verbose=True)\n",
    "#     for df, name in zip([df1, df2, df3, df4], ['det_greedy', 'det_cons', 'det_relax', 'const_sort']):\n",
    "#         ranking = df.model_rank.tolist()\n",
    "#         print(f\"algorithm: {name}\")\n",
    "#         print(f\"re-ranking: {ranking} (sum={sum(ranking)})\")\n",
    "#         print(f\"{dict(df.attribute.value_counts(normalize=True))}\")\n",
    "#         print()\n",
    "    \n",
    "    "
   ],
   "outputs": [],
   "metadata": {}
  },
  {
   "cell_type": "code",
   "execution_count": 5,
   "source": [
    "# r2 = Reranking(candidate_ids, ages, {'20s': 0.3, '30s': 0.2, '40s': 0., 'others':0.})\n",
    "# r2.re_rank_greedy(method= \"det_greedy\", verbose=True, k_max=10).head(10)"
   ],
   "outputs": [],
   "metadata": {}
  }
 ],
 "metadata": {
  "orig_nbformat": 4,
  "language_info": {
   "name": "python",
   "version": "3.9.0",
   "mimetype": "text/x-python",
   "codemirror_mode": {
    "name": "ipython",
    "version": 3
   },
   "pygments_lexer": "ipython3",
   "nbconvert_exporter": "python",
   "file_extension": ".py"
  },
  "kernelspec": {
   "name": "python3",
   "display_name": "Python 3.9.0 64-bit ('tensor-research': pyenv)"
  },
  "interpreter": {
   "hash": "dc8bbfeedf69173c055503f5682c6f96f8506eb1c4b3aa25d06d3cec24f2b1b1"
  }
 },
 "nbformat": 4,
 "nbformat_minor": 2
}