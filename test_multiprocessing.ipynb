{
 "cells": [
  {
   "cell_type": "code",
   "execution_count": 1,
   "metadata": {},
   "outputs": [
    {
     "name": "stdout",
     "output_type": "stream",
     "text": [
      "\u001b[33mWARNING: You are using pip version 20.2.3; however, version 22.2.2 is available.\n",
      "You should consider upgrading via the '/Users/longhao.yuan/.pyenv/versions/3.9.4/bin/python3.9 -m pip install --upgrade pip' command.\u001b[0m\n"
     ]
    }
   ],
   "source": [
    "!pip install pandas numpy -q"
   ]
  },
  {
   "cell_type": "code",
   "execution_count": 2,
   "metadata": {},
   "outputs": [],
   "source": [
    "import multiprocessing as mp\n",
    "from typing import Any, Dict, List, Optional, Tuple, Union\n",
    "\n",
    "import pandas as pd\n",
    "\n",
    "from reranking import rerank, rerank_multiprocessing\n"
   ]
  },
  {
   "cell_type": "code",
   "execution_count": 3,
   "metadata": {},
   "outputs": [],
   "source": [
    "import numpy as np\n",
    "item_attributes = np.random.randint(2, size=100000).reshape(1000, 100).tolist()\n",
    "desired_distributions = [{1: 0.2, 0: 0.8} for i in range(1000)]"
   ]
  },
  {
   "cell_type": "code",
   "execution_count": 4,
   "metadata": {},
   "outputs": [
    {
     "name": "stdout",
     "output_type": "stream",
     "text": [
      "top-10 1 ratio: 0.200\n",
      "CPU times: user 8.05 s, sys: 99.8 ms, total: 8.15 s\n",
      "Wall time: 11.5 s\n"
     ]
    }
   ],
   "source": [
    "%%time\n",
    "## single core\n",
    "res_1 = []\n",
    "for ia, dd in zip(item_attributes, desired_distributions):\n",
    "    idx = rerank(ia, dd)\n",
    "    res_1.append([ia[idx_] for idx_ in idx])\n",
    "    \n",
    "flat_res_1 = [i for r in res_1 for i in r[:10]]\n",
    "print(f\"top-10 1 ratio: {sum(flat_res_1)/len(flat_res_1):.3f}\")\n"
   ]
  },
  {
   "cell_type": "code",
   "execution_count": 5,
   "metadata": {},
   "outputs": [
    {
     "name": "stdout",
     "output_type": "stream",
     "text": [
      "top-10 1 ratio: 0.200\n",
      "CPU times: user 45.8 ms, sys: 56.4 ms, total: 102 ms\n",
      "Wall time: 3.35 s\n"
     ]
    }
   ],
   "source": [
    "%%time\n",
    "## muliprocessing\n",
    "res_2 = []\n",
    "idxs = rerank_multiprocessing(item_attributes, desired_distributions)\n",
    "for idx, ia in zip(idxs, item_attributes):\n",
    "    res_2.append([ia[idx_] for idx_ in idx])\n",
    "\n",
    "flat_res_2 = [i for r in res_2 for i in r[:10]]\n",
    "print(f\"top-10 1 ratio: {sum(flat_res_2)/len(flat_res_2):.3f}\")"
   ]
  },
  {
   "cell_type": "code",
   "execution_count": null,
   "metadata": {},
   "outputs": [],
   "source": []
  }
 ],
 "metadata": {
  "kernelspec": {
   "display_name": "Python 3.9.4 64-bit ('3.9.4')",
   "language": "python",
   "name": "python3"
  },
  "language_info": {
   "codemirror_mode": {
    "name": "ipython",
    "version": 3
   },
   "file_extension": ".py",
   "mimetype": "text/x-python",
   "name": "python",
   "nbconvert_exporter": "python",
   "pygments_lexer": "ipython3",
   "version": "3.9.4"
  },
  "orig_nbformat": 4,
  "vscode": {
   "interpreter": {
    "hash": "28395ddb83b73034c34eb0965b691f22b7f44c70f85e060876adec06ea9b3a62"
   }
  }
 },
 "nbformat": 4,
 "nbformat_minor": 2
}
